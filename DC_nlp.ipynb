{
 "cells": [
  {
   "cell_type": "markdown",
   "metadata": {},
   "source": [
    "# Final DC Classification Models\n",
    "## Patrick Ward\n",
    "### July 1st, 2019"
   ]
  },
  {
   "cell_type": "markdown",
   "metadata": {},
   "source": [
    "### Read in the data, ensure it it is correct"
   ]
  },
  {
   "cell_type": "code",
   "execution_count": 6,
   "metadata": {},
   "outputs": [
    {
     "data": {
      "text/html": [
       "<div>\n",
       "<style scoped>\n",
       "    .dataframe tbody tr th:only-of-type {\n",
       "        vertical-align: middle;\n",
       "    }\n",
       "\n",
       "    .dataframe tbody tr th {\n",
       "        vertical-align: top;\n",
       "    }\n",
       "\n",
       "    .dataframe thead th {\n",
       "        text-align: right;\n",
       "    }\n",
       "</style>\n",
       "<table border=\"1\" class=\"dataframe\">\n",
       "  <thead>\n",
       "    <tr style=\"text-align: right;\">\n",
       "      <th></th>\n",
       "      <th>DC_YEAR</th>\n",
       "      <th>scan_field</th>\n",
       "      <th>OD</th>\n",
       "    </tr>\n",
       "  </thead>\n",
       "  <tbody>\n",
       "    <tr>\n",
       "      <th>0</th>\n",
       "      <td>2017</td>\n",
       "      <td>CANCER CARDIOPULMONARY ARREST</td>\n",
       "      <td>0</td>\n",
       "    </tr>\n",
       "    <tr>\n",
       "      <th>1</th>\n",
       "      <td>2017</td>\n",
       "      <td>MYOCARDIAL INFARCTION</td>\n",
       "      <td>0</td>\n",
       "    </tr>\n",
       "    <tr>\n",
       "      <th>2</th>\n",
       "      <td>2017</td>\n",
       "      <td>ALZHEIMERS DEMENTIA</td>\n",
       "      <td>0</td>\n",
       "    </tr>\n",
       "    <tr>\n",
       "      <th>3</th>\n",
       "      <td>2017</td>\n",
       "      <td>CHRONIC OBSTRUCTIVE PULMONARY DISEASE</td>\n",
       "      <td>0</td>\n",
       "    </tr>\n",
       "    <tr>\n",
       "      <th>4</th>\n",
       "      <td>2017</td>\n",
       "      <td>MULTISYSTEM ORGAN DYSFUNCTION SYNDROME SEIZURE...</td>\n",
       "      <td>0</td>\n",
       "    </tr>\n",
       "  </tbody>\n",
       "</table>\n",
       "</div>"
      ],
      "text/plain": [
       "   DC_YEAR                                         scan_field  OD\n",
       "0     2017                      CANCER CARDIOPULMONARY ARREST   0\n",
       "1     2017                              MYOCARDIAL INFARCTION   0\n",
       "2     2017                                ALZHEIMERS DEMENTIA   0\n",
       "3     2017              CHRONIC OBSTRUCTIVE PULMONARY DISEASE   0\n",
       "4     2017  MULTISYSTEM ORGAN DYSFUNCTION SYNDROME SEIZURE...   0"
      ]
     },
     "execution_count": 6,
     "metadata": {},
     "output_type": "execute_result"
    }
   ],
   "source": [
    "import pandas as pd\n",
    "df = pd.read_csv('U:/BMI-733/Data/data.csv',encoding = \"ISO-8859-1\")\n",
    "col = ['DC_YEAR', 'scan_field', 'OD']\n",
    "df = df[col]\n",
    "df.head()"
   ]
  },
  {
   "cell_type": "markdown",
   "metadata": {},
   "source": [
    "### Create train/test split"
   ]
  },
  {
   "cell_type": "code",
   "execution_count": 9,
   "metadata": {},
   "outputs": [],
   "source": [
    "train=df[df['DC_YEAR']==2017]\n",
    "test=df[df['DC_YEAR']==2018]\n",
    "\n",
    "X_train=train.scan_field\n",
    "X_test=test.scan_field\n",
    "y_train=train.OD\n",
    "y_test=test.OD"
   ]
  },
  {
   "cell_type": "markdown",
   "metadata": {},
   "source": [
    "### Create vectorizer to create word, bigram, and trigram features"
   ]
  },
  {
   "cell_type": "code",
   "execution_count": 12,
   "metadata": {},
   "outputs": [],
   "source": [
    "from sklearn.feature_extraction.text import CountVectorizer \n",
    "\n",
    "count_vect = CountVectorizer(ngram_range=(1,3), stop_words='english', min_df=5)\n",
    "word_vect = CountVectorizer(ngram_range=(1,1), stop_words='english', min_df=5)\n",
    "\n",
    "\n",
    "X_train_bow=count_vect.fit_transform(X_train.values.astype('U'))\n",
    "X_train_words=word_vect.fit_transform(X_train.values.astype('U'))\n",
    "X_test_bow=count_vect.transform(X_test.values.astype('U'))\n",
    "\n",
    "\"Name these\"\n",
    "X_train_final=X_train_bow\n",
    "X_test_final=X_test_bow"
   ]
  },
  {
   "cell_type": "markdown",
   "metadata": {},
   "source": [
    "### Count the number of features in the model and the number of words"
   ]
  },
  {
   "cell_type": "code",
   "execution_count": 19,
   "metadata": {},
   "outputs": [
    {
     "name": "stdout",
     "output_type": "stream",
     "text": [
      "(48016, 9849)\n",
      "(48016, 9849)\n",
      "(48016, 1820)\n"
     ]
    }
   ],
   "source": [
    "import numpy as np\n",
    "print(np.shape(X_train_final))\n",
    "print(np.shape(X_train_bow))\n",
    "print(np.shape(X_train_words))"
   ]
  },
  {
   "cell_type": "markdown",
   "metadata": {},
   "source": [
    "### Code to create confusion matrix plots"
   ]
  },
  {
   "cell_type": "code",
   "execution_count": 20,
   "metadata": {},
   "outputs": [],
   "source": [
    "import itertools\n",
    "import matplotlib.pyplot as plt\n",
    "def plot_confusion_matrix(cm, classes,\n",
    "                          normalize=False,\n",
    "                          title='Confusion matrix',\n",
    "                          cmap=plt.cm.Blues):\n",
    "    \"\"\"\n",
    "    This function prints and plots the confusion matrix.\n",
    "    Normalization can be applied by setting `normalize=True`.\n",
    "    \"\"\"\n",
    "    if normalize:\n",
    "        cm = cm.astype('float') / cm.sum(axis=1)[:, np.newaxis]\n",
    "        print(\"Normalized confusion matrix\")\n",
    "    else:\n",
    "        print('Confusion matrix, without normalization')\n",
    "\n",
    "    print(cm)\n",
    "\n",
    "    plt.imshow(cm, interpolation='nearest', cmap=cmap)\n",
    "    plt.title(title)\n",
    "    plt.colorbar()\n",
    "    tick_marks = np.arange(len(classes))\n",
    "    plt.xticks(tick_marks, classes, rotation=45)\n",
    "    plt.yticks(tick_marks, classes)\n",
    "\n",
    "    fmt = '.2f' if normalize else 'd'\n",
    "    thresh = cm.max() / 2.\n",
    "    for i, j in itertools.product(range(cm.shape[0]), range(cm.shape[1])):\n",
    "        plt.text(j, i, format(cm[i, j], fmt),\n",
    "                 horizontalalignment=\"center\",\n",
    "                 color=\"white\" if cm[i, j] > thresh else \"black\")\n",
    "\n",
    "    plt.ylabel('True label')\n",
    "    plt.xlabel('Predicted label')\n",
    "    plt.tight_layout()"
   ]
  },
  {
   "cell_type": "markdown",
   "metadata": {},
   "source": [
    "## Modeling\n",
    "### First SVM"
   ]
  },
  {
   "cell_type": "code",
   "execution_count": 21,
   "metadata": {},
   "outputs": [
    {
     "name": "stderr",
     "output_type": "stream",
     "text": [
      "C:\\Users\\pjwa227\\AppData\\Local\\Continuum\\anaconda3\\lib\\site-packages\\sklearn\\ensemble\\weight_boosting.py:29: DeprecationWarning: numpy.core.umath_tests is an internal NumPy module and should not be imported. It will be removed in a future NumPy release.\n",
      "  from numpy.core.umath_tests import inner1d\n"
     ]
    },
    {
     "name": "stdout",
     "output_type": "stream",
     "text": [
      "0.977 (+/-0.018) for {'C': 0.1}\n",
      "0.973 (+/-0.022) for {'C': 1}\n",
      "0.968 (+/-0.019) for {'C': 10}\n",
      "0.966 (+/-0.020) for {'C': 100}\n"
     ]
    }
   ],
   "source": [
    "from sklearn import metrics\n",
    "from sklearn.svm import SVC\n",
    "from sklearn.ensemble import RandomForestClassifier\n",
    "from sklearn.neural_network import MLPClassifier\n",
    "from sklearn.model_selection import GridSearchCV\n",
    "from sklearn.metrics import classification_report\n",
    "from sklearn.model_selection import RepeatedStratifiedKFold\n",
    "\n",
    "\"Set up repeated cross validation\"\n",
    "cross_validation=RepeatedStratifiedKFold(n_splits=10, n_repeats=3)\n",
    "\n",
    "tuned_parameters = [{'C': [.1, 1, 10, 100]}]\n",
    "\n",
    "clf = GridSearchCV(SVC(kernel='linear'), tuned_parameters, cv=cross_validation, scoring='f1')\n",
    "clf.fit(X_train_final, y_train)\n",
    "\n",
    "means = clf.cv_results_['mean_test_score']\n",
    "stds = clf.cv_results_['std_test_score']\n",
    "for mean, std, params in zip(means, stds, clf.cv_results_['params']):\n",
    "    print(\"%0.3f (+/-%0.03f) for %r\"\n",
    "          % (mean, std * 2, params))"
   ]
  },
  {
   "cell_type": "markdown",
   "metadata": {},
   "source": [
    "### Next SVM, tuning around best parameter from previous SVM"
   ]
  },
  {
   "cell_type": "code",
   "execution_count": 22,
   "metadata": {},
   "outputs": [
    {
     "name": "stdout",
     "output_type": "stream",
     "text": [
      "0.977 (+/-0.014) for {'C': 0.08}\n",
      "0.978 (+/-0.013) for {'C': 0.1}\n",
      "0.977 (+/-0.013) for {'C': 0.15}\n",
      "0.977 (+/-0.013) for {'C': 0.2}\n"
     ]
    }
   ],
   "source": [
    "tuned_parameters = [{'C': [.08, .1, .15, .20]}]\n",
    "\n",
    "clf = GridSearchCV(SVC(kernel='linear'), tuned_parameters, cv=cross_validation, scoring='f1')\n",
    "clf.fit(X_train_final, y_train)\n",
    "\n",
    "means = clf.cv_results_['mean_test_score']\n",
    "stds = clf.cv_results_['std_test_score']\n",
    "for mean, std, params in zip(means, stds, clf.cv_results_['params']):\n",
    "    print(\"%0.3f (+/-%0.03f) for %r\"\n",
    "          % (mean, std * 2, params))"
   ]
  },
  {
   "cell_type": "markdown",
   "metadata": {},
   "source": [
    "### Final tuning step"
   ]
  },
  {
   "cell_type": "code",
   "execution_count": 23,
   "metadata": {},
   "outputs": [
    {
     "name": "stdout",
     "output_type": "stream",
     "text": [
      "0.977 (+/-0.017) for {'C': 0.1}\n",
      "0.977 (+/-0.017) for {'C': 0.11}\n",
      "0.977 (+/-0.017) for {'C': 0.12}\n",
      "0.977 (+/-0.017) for {'C': 0.13}\n",
      "Best parameters found:\n",
      " {'C': 0.11}\n"
     ]
    }
   ],
   "source": [
    "tuned_parameters = [{'C': [.1, .11, .12, .13]}]\n",
    "\n",
    "clf = GridSearchCV(SVC(kernel='linear'), tuned_parameters, cv=cross_validation, scoring='f1')\n",
    "clf.fit(X_train_final, y_train)\n",
    "\n",
    "means = clf.cv_results_['mean_test_score']\n",
    "stds = clf.cv_results_['std_test_score']\n",
    "for mean, std, params in zip(means, stds, clf.cv_results_['params']):\n",
    "    print(\"%0.3f (+/-%0.03f) for %r\"\n",
    "          % (mean, std * 2, params))\n",
    "\n",
    "print('Best parameters found:\\n', clf.best_params_)"
   ]
  },
  {
   "cell_type": "markdown",
   "metadata": {},
   "source": [
    "### Re-train full data with best parameter value"
   ]
  },
  {
   "cell_type": "code",
   "execution_count": 24,
   "metadata": {},
   "outputs": [
    {
     "name": "stdout",
     "output_type": "stream",
     "text": [
      "             precision    recall  f1-score   support\n",
      "\n",
      "          0       1.00      1.00      1.00     46450\n",
      "          1       0.99      0.99      0.99      1566\n",
      "\n",
      "avg / total       1.00      1.00      1.00     48016\n",
      "\n",
      "Confusion matrix, without normalization\n",
      "[[46434    16]\n",
      " [   22  1544]]\n"
     ]
    },
    {
     "data": {
      "image/png": "[encoded data removed]",
      "text/plain": [
       "<Figure size 432x288 with 2 Axes>"
      ]
     },
     "metadata": {
      "needs_background": "light"
     },
     "output_type": "display_data"
    }
   ],
   "source": [
    "clf=SVC(kernel='linear', C=0.11).fit(X_train_final, y_train)\n",
    "\n",
    "predicted=clf.predict(X_train_final)\n",
    "print(classification_report(y_train, predicted))\n",
    "\n",
    "cnf_matrix=metrics.confusion_matrix(y_train, predicted)\n",
    "class_names = ['Not OD', 'Drug OD']\n",
    "plt.figure()\n",
    "plot_confusion_matrix(cnf_matrix, classes=class_names,\n",
    "                      title='Confusion matrix')"
   ]
  },
  {
   "cell_type": "markdown",
   "metadata": {},
   "source": [
    "### Deploy on test data"
   ]
  },
  {
   "cell_type": "code",
   "execution_count": 25,
   "metadata": {},
   "outputs": [
    {
     "name": "stdout",
     "output_type": "stream",
     "text": [
      "             precision    recall  f1-score   support\n",
      "\n",
      "          0       1.00      1.00      1.00     35214\n",
      "          1       0.96      0.98      0.97       912\n",
      "\n",
      "avg / total       1.00      1.00      1.00     36126\n",
      "\n",
      "Confusion matrix, without normalization\n",
      "[[35179    35]\n",
      " [   21   891]]\n"
     ]
    },
    {
     "data": {
      "image/png": "[encoded data removed]",
      "text/plain": [
       "<Figure size 432x288 with 2 Axes>"
      ]
     },
     "metadata": {
      "needs_background": "light"
     },
     "output_type": "display_data"
    }
   ],
   "source": [
    "predicted_test=clf.predict(X_test_final)\n",
    "print(classification_report(y_test, predicted_test))\n",
    "\n",
    "cnf_matrix=metrics.confusion_matrix(y_test, predicted_test)\n",
    "class_names = ['Not OD', 'Drug OD']\n",
    "plt.figure()\n",
    "plot_confusion_matrix(cnf_matrix, classes=class_names,\n",
    "                      title='Confusion matrix')"
   ]
  },
  {
   "cell_type": "markdown",
   "metadata": {},
   "source": [
    "### Random forests"
   ]
  },
  {
   "cell_type": "code",
   "execution_count": 26,
   "metadata": {},
   "outputs": [
    {
     "name": "stdout",
     "output_type": "stream",
     "text": [
      "0.973 (+/-0.012) for {'max_depth': None, 'n_estimators': 100}\n",
      "0.973 (+/-0.013) for {'max_depth': None, 'n_estimators': 500}\n",
      "0.137 (+/-0.096) for {'max_depth': 5, 'n_estimators': 100}\n",
      "0.179 (+/-0.107) for {'max_depth': 5, 'n_estimators': 500}\n",
      "0.721 (+/-0.073) for {'max_depth': 10, 'n_estimators': 100}\n",
      "0.730 (+/-0.075) for {'max_depth': 10, 'n_estimators': 500}\n",
      "Best parameters found:\n",
      " {'max_depth': None, 'n_estimators': 500}\n"
     ]
    }
   ],
   "source": [
    "tuned_params={\n",
    "    'n_estimators': [100, 500],\n",
    "    'max_depth':[None, 5, 10],\n",
    "}\n",
    "\n",
    "clf=GridSearchCV(RandomForestClassifier(random_state=1234), tuned_params, cv=cross_validation, scoring='f1')\n",
    "clf.fit(X_train_final, y_train)\n",
    "\n",
    "means = clf.cv_results_['mean_test_score']\n",
    "stds = clf.cv_results_['std_test_score']\n",
    "for mean, std, params in zip(means, stds, clf.cv_results_['params']):\n",
    "    print(\"%0.3f (+/-%0.03f) for %r\"\n",
    "          % (mean, std * 2, params))\n",
    "\n",
    "print('Best parameters found:\\n', clf.best_params_)"
   ]
  },
  {
   "cell_type": "markdown",
   "metadata": {},
   "source": [
    "### Next tuning step"
   ]
  },
  {
   "cell_type": "code",
   "execution_count": 27,
   "metadata": {},
   "outputs": [
    {
     "name": "stdout",
     "output_type": "stream",
     "text": [
      "0.972 (+/-0.017) for {'max_depth': None, 'n_estimators': 100}\n",
      "0.972 (+/-0.017) for {'max_depth': None, 'n_estimators': 500}\n",
      "0.973 (+/-0.017) for {'max_depth': 100, 'n_estimators': 100}\n",
      "0.974 (+/-0.018) for {'max_depth': 100, 'n_estimators': 500}\n",
      "0.972 (+/-0.017) for {'max_depth': 500, 'n_estimators': 100}\n",
      "0.972 (+/-0.017) for {'max_depth': 500, 'n_estimators': 500}\n",
      "Best parameters found:\n",
      " {'max_depth': 100, 'n_estimators': 500}\n"
     ]
    }
   ],
   "source": [
    "tuned_params={\n",
    "    'n_estimators': [100, 500],\n",
    "    'max_depth':[None, 100, 500],\n",
    "}\n",
    "\n",
    "clf=GridSearchCV(RandomForestClassifier(random_state=1234), tuned_params, cv=cross_validation, scoring='f1')\n",
    "clf.fit(X_train_final, y_train)\n",
    "\n",
    "means = clf.cv_results_['mean_test_score']\n",
    "stds = clf.cv_results_['std_test_score']\n",
    "for mean, std, params in zip(means, stds, clf.cv_results_['params']):\n",
    "    print(\"%0.3f (+/-%0.03f) for %r\"\n",
    "          % (mean, std * 2, params))\n",
    "\n",
    "print('Best parameters found:\\n', clf.best_params_)"
   ]
  },
  {
   "cell_type": "markdown",
   "metadata": {},
   "source": [
    "### Tune the max features"
   ]
  },
  {
   "cell_type": "code",
   "execution_count": 28,
   "metadata": {},
   "outputs": [
    {
     "name": "stdout",
     "output_type": "stream",
     "text": [
      "0.974 (+/-0.012) for {'max_features': 'auto'}\n",
      "0.974 (+/-0.012) for {'max_features': 'sqrt'}\n",
      "0.915 (+/-0.024) for {'max_features': 'log2'}\n",
      "Best parameters found:\n",
      " {'max_features': 'auto'}\n"
     ]
    }
   ],
   "source": [
    "tuned_params={\n",
    "    'max_features': ['auto', 'sqrt', 'log2'],\n",
    "}\n",
    "\n",
    "clf=GridSearchCV(RandomForestClassifier(max_depth=100, n_estimators=500, random_state=1234),\n",
    "                 tuned_params, cv=cross_validation, scoring='f1')\n",
    "clf.fit(X_train_final, y_train)\n",
    "\n",
    "means = clf.cv_results_['mean_test_score']\n",
    "stds = clf.cv_results_['std_test_score']\n",
    "for mean, std, params in zip(means, stds, clf.cv_results_['params']):\n",
    "    print(\"%0.3f (+/-%0.03f) for %r\"\n",
    "          % (mean, std * 2, params))\n",
    "\n",
    "print('Best parameters found:\\n', clf.best_params_)"
   ]
  },
  {
   "cell_type": "markdown",
   "metadata": {},
   "source": [
    "### Re-train full data with best parameter value"
   ]
  },
  {
   "cell_type": "code",
   "execution_count": 29,
   "metadata": {},
   "outputs": [
    {
     "name": "stdout",
     "output_type": "stream",
     "text": [
      "             precision    recall  f1-score   support\n",
      "\n",
      "          0       1.00      1.00      1.00     46450\n",
      "          1       1.00      1.00      1.00      1566\n",
      "\n",
      "avg / total       1.00      1.00      1.00     48016\n",
      "\n",
      "Confusion matrix, without normalization\n",
      "[[46450     0]\n",
      " [    7  1559]]\n"
     ]
    },
    {
     "data": {
      "image/png": "[encoded data removed]",
      "text/plain": [
       "<Figure size 432x288 with 2 Axes>"
      ]
     },
     "metadata": {
      "needs_background": "light"
     },
     "output_type": "display_data"
    }
   ],
   "source": [
    "clf=RandomForestClassifier(n_estimators=500, max_depth=100, max_features='auto', random_state=1234)\n",
    "clf.fit(X_train_final, y_train)\n",
    "\n",
    "predicted=clf.predict(X_train_final)\n",
    "print(classification_report(y_train, predicted))\n",
    "\n",
    "cnf_matrix=metrics.confusion_matrix(y_train, predicted)\n",
    "class_names = ['Not OD', 'Drug OD']\n",
    "plt.figure()\n",
    "plot_confusion_matrix(cnf_matrix, classes=class_names,\n",
    "                      title='Confusion matrix')"
   ]
  },
  {
   "cell_type": "markdown",
   "metadata": {},
   "source": [
    "### Deploy on test data"
   ]
  },
  {
   "cell_type": "code",
   "execution_count": 30,
   "metadata": {},
   "outputs": [
    {
     "name": "stdout",
     "output_type": "stream",
     "text": [
      "             precision    recall  f1-score   support\n",
      "\n",
      "          0       1.00      1.00      1.00     35214\n",
      "          1       0.95      0.98      0.97       912\n",
      "\n",
      "avg / total       1.00      1.00      1.00     36126\n",
      "\n",
      "Confusion matrix, without normalization\n",
      "[[35170    44]\n",
      " [   18   894]]\n"
     ]
    },
    {
     "data": {
      "image/png": "[encoded data removed]",
      "text/plain": [
       "<Figure size 432x288 with 2 Axes>"
      ]
     },
     "metadata": {
      "needs_background": "light"
     },
     "output_type": "display_data"
    }
   ],
   "source": [
    "predicted_test=clf.predict(X_test_final)\n",
    "print(classification_report(y_test, predicted_test))\n",
    "\n",
    "cnf_matrix=metrics.confusion_matrix(y_test, predicted_test)\n",
    "class_names = ['Not OD', 'Drug OD']\n",
    "plt.figure()\n",
    "plot_confusion_matrix(cnf_matrix, classes=class_names,\n",
    "                      title='Confusion matrix')"
   ]
  },
  {
   "cell_type": "markdown",
   "metadata": {},
   "source": [
    "### MLP"
   ]
  },
  {
   "cell_type": "code",
   "execution_count": 31,
   "metadata": {},
   "outputs": [
    {
     "name": "stdout",
     "output_type": "stream",
     "text": [
      "0.970 (+/-0.015) for {'alpha': 0.0001, 'hidden_layer_sizes': (50, 50, 50)}\n",
      "0.970 (+/-0.014) for {'alpha': 0.0001, 'hidden_layer_sizes': (50, 100, 50)}\n",
      "0.970 (+/-0.013) for {'alpha': 0.0001, 'hidden_layer_sizes': (100,)}\n",
      "0.969 (+/-0.018) for {'alpha': 0.01, 'hidden_layer_sizes': (50, 50, 50)}\n",
      "0.972 (+/-0.019) for {'alpha': 0.01, 'hidden_layer_sizes': (50, 100, 50)}\n",
      "0.973 (+/-0.016) for {'alpha': 0.01, 'hidden_layer_sizes': (100,)}\n",
      "Best parameters found:\n",
      " {'alpha': 0.01, 'hidden_layer_sizes': (100,)}\n"
     ]
    }
   ],
   "source": [
    "parameter_space={\n",
    "    'hidden_layer_sizes': [(50,50,50), (50,100,50), (100,)],\n",
    "    'alpha': [.0001, .01],\n",
    "}\n",
    "\n",
    "clf=GridSearchCV(MLPClassifier(), parameter_space, cv=cross_validation, scoring='f1')\n",
    "clf.fit(X_train_final, y_train)\n",
    "\n",
    "means = clf.cv_results_['mean_test_score']\n",
    "stds = clf.cv_results_['std_test_score']\n",
    "for mean, std, params in zip(means, stds, clf.cv_results_['params']):\n",
    "    print(\"%0.3f (+/-%0.03f) for %r\"\n",
    "          % (mean, std * 2, params))\n",
    "\n",
    "print('Best parameters found:\\n', clf.best_params_)"
   ]
  },
  {
   "cell_type": "markdown",
   "metadata": {},
   "source": [
    "### Next tuning step"
   ]
  },
  {
   "cell_type": "code",
   "execution_count": 32,
   "metadata": {},
   "outputs": [
    {
     "name": "stdout",
     "output_type": "stream",
     "text": [
      "0.972 (+/-0.023) for {'alpha': 0.01, 'hidden_layer_sizes': (100,)}\n",
      "0.969 (+/-0.022) for {'alpha': 0.1, 'hidden_layer_sizes': (100,)}\n",
      "0.970 (+/-0.022) for {'alpha': 0.001, 'hidden_layer_sizes': (100,)}\n",
      "Best parameters found:\n",
      " {'alpha': 0.01, 'hidden_layer_sizes': (100,)}\n"
     ]
    }
   ],
   "source": [
    "parameter_space={\n",
    "    'hidden_layer_sizes': [(100,)],\n",
    "    'alpha': [.01, .1, .001],\n",
    "}\n",
    "\n",
    "clf=GridSearchCV(MLPClassifier(), parameter_space, cv=cross_validation, scoring='f1')\n",
    "clf.fit(X_train_final, y_train)\n",
    "\n",
    "means = clf.cv_results_['mean_test_score']\n",
    "stds = clf.cv_results_['std_test_score']\n",
    "for mean, std, params in zip(means, stds, clf.cv_results_['params']):\n",
    "    print(\"%0.3f (+/-%0.03f) for %r\"\n",
    "          % (mean, std * 2, params))\n",
    "\n",
    "print('Best parameters found:\\n', clf.best_params_)"
   ]
  },
  {
   "cell_type": "markdown",
   "metadata": {},
   "source": [
    "### Re-train with best parameters"
   ]
  },
  {
   "cell_type": "code",
   "execution_count": 33,
   "metadata": {},
   "outputs": [
    {
     "name": "stdout",
     "output_type": "stream",
     "text": [
      "             precision    recall  f1-score   support\n",
      "\n",
      "          0       1.00      1.00      1.00     46450\n",
      "          1       0.99      0.99      0.99      1566\n",
      "\n",
      "avg / total       1.00      1.00      1.00     48016\n",
      "\n",
      "Confusion matrix, without normalization\n",
      "[[46439    11]\n",
      " [    9  1557]]\n"
     ]
    },
    {
     "data": {
      "image/png": "[encoded data removed]",
      "text/plain": [
       "<Figure size 432x288 with 2 Axes>"
      ]
     },
     "metadata": {
      "needs_background": "light"
     },
     "output_type": "display_data"
    }
   ],
   "source": [
    "clf=MLPClassifier(hidden_layer_sizes=(100,), alpha=0.01)\n",
    "clf.fit(X_train_final, y_train)\n",
    "\n",
    "predicted=clf.predict(X_train_final)\n",
    "print(classification_report(y_train, predicted))\n",
    "\n",
    "cnf_matrix=metrics.confusion_matrix(y_train, predicted)\n",
    "class_names = ['Not OD', 'Drug OD']\n",
    "plt.figure()\n",
    "plot_confusion_matrix(cnf_matrix, classes=class_names,\n",
    "                      title='Confusion matrix')"
   ]
  },
  {
   "cell_type": "markdown",
   "metadata": {},
   "source": [
    "### Deploy on test data"
   ]
  },
  {
   "cell_type": "code",
   "execution_count": 34,
   "metadata": {},
   "outputs": [
    {
     "name": "stdout",
     "output_type": "stream",
     "text": [
      "             precision    recall  f1-score   support\n",
      "\n",
      "          0       1.00      1.00      1.00     35214\n",
      "          1       0.96      0.97      0.97       912\n",
      "\n",
      "avg / total       1.00      1.00      1.00     36126\n",
      "\n",
      "Confusion matrix, without normalization\n",
      "[[35179    35]\n",
      " [   24   888]]\n"
     ]
    },
    {
     "data": {
      "image/png": "[encoded data removed]",
      "text/plain": [
       "<Figure size 432x288 with 2 Axes>"
      ]
     },
     "metadata": {
      "needs_background": "light"
     },
     "output_type": "display_data"
    }
   ],
   "source": [
    "predicted_test=clf.predict(X_test_final)\n",
    "print(classification_report(y_test, predicted_test))\n",
    "\n",
    "cnf_matrix=metrics.confusion_matrix(y_test, predicted_test)\n",
    "class_names = ['Not OD', 'Drug OD']\n",
    "plt.figure()\n",
    "plot_confusion_matrix(cnf_matrix, classes=class_names,\n",
    "                      title='Confusion matrix')"
   ]
  }
 ],
 "metadata": {
  "kernelspec": {
   "display_name": "Python 3",
   "language": "python",
   "name": "python3"
  },
  "language_info": {
   "codemirror_mode": {
    "name": "ipython",
    "version": 3
   },
   "file_extension": ".py",
   "mimetype": "text/x-python",
   "name": "python",
   "nbconvert_exporter": "python",
   "pygments_lexer": "ipython3",
   "version": "3.7.0"
  }
 },
 "nbformat": 4,
 "nbformat_minor": 2
}
